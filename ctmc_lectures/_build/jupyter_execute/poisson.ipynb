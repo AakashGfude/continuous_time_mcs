{
 "cells": [
  {
   "cell_type": "code",
   "execution_count": null,
   "metadata": {},
   "outputs": [],
   "source": []
  },
  {
   "cell_type": "markdown",
   "metadata": {},
   "source": [
    "# Poisson Processes\n",
    "\n",
    "\n",
    "## Overview\n",
    "\n",
    "[add intro]\n",
    "\n",
    "We will use the following imports"
   ]
  },
  {
   "cell_type": "code",
   "execution_count": 1,
   "metadata": {
    "execution": {
     "iopub.execute_input": "2020-07-15T19:21:04.275988Z",
     "iopub.status.busy": "2020-07-15T19:21:04.275259Z",
     "iopub.status.idle": "2020-07-15T19:21:05.077965Z",
     "shell.execute_reply": "2020-07-15T19:21:05.077257Z"
    }
   },
   "outputs": [],
   "source": [
    "import numpy as np\n",
    "import scipy as sp\n",
    "import matplotlib.pyplot as plt\n",
    "import quantecon as qe\n",
    "from numba import njit\n"
   ]
  },
  {
   "cell_type": "markdown",
   "metadata": {},
   "source": [
    "## Memoryless Distributions\n",
    "\n",
    "Start with the geometric distribution.\n",
    "\n",
    "Memoryless property is intuitive.\n",
    "\n",
    "Connect with exponential distribution.\n",
    "\n",
    "If $Y$ is exponential with rate $\\lambda$, then \n",
    "\n",
    "$$\n",
    "    \\mathbb P\\{Y > y\\} = e^{-\\lambda y}\n",
    "    \\quad \\text{  for all } \n",
    "    y \\geq 0\n",
    "$$\n",
    "\n",
    "Show that exponential is the only memoryless distribution on $\\mathbb R_+$.\n",
    "\n",
    "\n",
    "\n",
    "## Poisson Dynamics\n",
    "\n",
    "[roadmap]\n",
    "\n",
    "### Construction\n",
    "\n",
    "Let $\\lambda > 0$ be given and let $\\{W_i\\}$ be IID exponential with rate $\\lambda$.\n",
    "\n",
    "Let\n",
    "\n",
    "$$\n",
    "    J_k := W_1 + \\cdots W_k \n",
    "    \\quad \\text{with} \\quad\n",
    "    J_0 = 0\n",
    "$$\n",
    "\n",
    "For example, imagine a queue of infinite length, with customer 1 at the front,\n",
    "customer 2 next, etc.\n",
    "\n",
    "Let $W_i$ is the amount of time that customer $i$ waits in the\n",
    "queue. \n",
    "\n",
    "Then $J_k$ is the time that the $k$-th customer is served, while\n",
    "\n",
    "$$\n",
    "    N_t := \\sum_{k \\geq 0} k \\mathbb 1\\{ J_k \\leq t < J_{k+1} \\}\n",
    "$$\n",
    "\n",
    "is the number of customers served by time $t$.\n",
    "\n",
    "The next figure illustrate the definition of $N_t$ for a given jump sequence $\\{J_k\\}$."
   ]
  },
  {
   "cell_type": "code",
   "execution_count": 2,
   "metadata": {
    "execution": {
     "iopub.execute_input": "2020-07-15T19:21:05.085302Z",
     "iopub.status.busy": "2020-07-15T19:21:05.084517Z",
     "iopub.status.idle": "2020-07-15T19:21:05.425020Z",
     "shell.execute_reply": "2020-07-15T19:21:05.425579Z"
    },
    "tags": [
     "hide-input"
    ]
   },
   "outputs": [
    {
     "data": {
      "image/png": "[encoded data removed]",
      "text/plain": [
       "<Figure size 432x288 with 1 Axes>"
      ]
     },
     "metadata": {
      "filenames": {
       "image/png": "/home/john/gh_synced/quantecon/continuous_time_mcs/ctmc_lectures/_build/jupyter_execute/poisson_4_0.png"
      },
      "needs_background": "light"
     },
     "output_type": "display_data"
    }
   ],
   "source": [
    "Ks = 0, 1, 2, 3\n",
    "Js = 0, 0.8, 1.8, 2.1, 3\n",
    "n = len(Ks)\n",
    "\n",
    "fig, ax = plt.subplots()\n",
    "\n",
    "ax.plot(Js[:-1], Ks, 'o')\n",
    "ax.hlines(Ks, Js[:-1], Js[1:], label='$N_t$')\n",
    "ax.vlines(Js[:-1], (0, Ks[0], Ks[1], Ks[2]), Ks, alpha=0.25)\n",
    "\n",
    "ax.set(xticks=Js[:-1],\n",
    "       xticklabels=[f'$J_{k}$' for k in range(n)],\n",
    "       yticks=(0, 1, 2, 3),\n",
    "       xlabel='$t$')\n",
    "\n",
    "ax.legend(loc='lower right')\n",
    "plt.show()"
   ]
  },
  {
   "cell_type": "markdown",
   "metadata": {},
   "source": [
    "An alternative but equivalent definition is\n",
    "\n",
    "$$\n",
    "    N_t = \\max \\{k \\geq 0 \\,|\\, J_k \\leq t \\}\n",
    "$$\n",
    "\n",
    "As a function of $t$, the process $N_t$ is called a **counting process**.\n",
    "\n",
    "\n",
    "\n",
    "### Properties\n",
    "\n",
    "**Proposition**  For each $t > 0$, the random variable $N_t$ has the Poisson\n",
    "distribution with parameter $t \\lambda$, so that\n",
    "\n",
    "$$ \n",
    "    \\mathbb P\\{N_t =k\\} \n",
    "    = e^{-t \\lambda} \\frac{(t \\lambda)^k }{k!}\n",
    "    \\qquad (k = 0, 1, \\ldots)\n",
    "$$\n",
    "\n",
    "[stationary, independent increments]\n",
    "\n",
    "[For a proof, see Norris Thm. 2.4.3.]\n",
    "\n",
    "An exercise at the end of the lecture asks you to test the claim that $N(t)$ is Poisson-$(t \\lambda )$ (informally) via simulation.\n",
    "\n",
    "\n",
    "\n",
    "## Uniqueness\n",
    "\n",
    "What other processes have properties xyz listed above?\n",
    "\n",
    "The answer is none: any process with these properties is necessarily a Poisson\n",
    "process.\n",
    "\n",
    "[Give more discussion, add ref.]\n",
    "\n",
    "\n",
    "\n",
    "\n",
    "## Exercises\n",
    "\n",
    "Exercise 1\n",
    "----------\n",
    "\n",
    "Fix $\\lambda > 0$ and draw $\\{W_i\\}$ as IID exponentials with rate $\\lambda$\n",
    "\n",
    "Set $J_n := W_1 + \\cdots W_n$ with $J_0 = 0$ and\n",
    "    $N_t := \\sum_{n \\geq 0} n \\mathbb 1\\{ J_n \\leq t < J_{n+1} \\}$\n",
    "\n",
    "Provide a visual test of the claim that $N_t$ is Poisson with parameter $t\n",
    "\\lambda$.\n",
    "\n",
    "Do this by fixing $t = T$, generating many independent draws of $N_T$ and\n",
    "comparing the empirical distribution of the sample with a Poisson\n",
    "distribution with rate $T \\lambda$.\n",
    "\n",
    "Try first with $\\lambda = 0.5$ and $T=10$.\n",
    "\n",
    "\n",
    "\n",
    "\n",
    "## Solutions\n",
    "\n",
    "Exercise 1\n",
    "----------\n",
    "\n",
    "Here is one solution.  \n",
    "\n",
    "The figure shows that the fit is already good with a modest sample size.\n",
    "\n",
    "Increasing the sample size will further improve the fit."
   ]
  },
  {
   "cell_type": "code",
   "execution_count": 3,
   "metadata": {
    "execution": {
     "iopub.execute_input": "2020-07-15T19:21:05.465190Z",
     "iopub.status.busy": "2020-07-15T19:21:05.464703Z",
     "iopub.status.idle": "2020-07-15T19:21:05.747458Z",
     "shell.execute_reply": "2020-07-15T19:21:05.747012Z"
    }
   },
   "outputs": [
    {
     "data": {
      "image/png": "[encoded data removed]",
      "text/plain": [
       "<Figure size 432x288 with 1 Axes>"
      ]
     },
     "metadata": {
      "filenames": {
       "image/png": "/home/john/gh_synced/quantecon/continuous_time_mcs/ctmc_lectures/_build/jupyter_execute/poisson_6_0.png"
      },
      "needs_background": "light"
     },
     "output_type": "display_data"
    }
   ],
   "source": [
    "λ = 0.5\n",
    "T = 10\n",
    "\n",
    "def poisson(k):\n",
    "    \"Poisson pmf with rate Tλ.\"\n",
    "    r = T * λ\n",
    "    return np.exp(-r) * (r**k) / sp.special.factorial(k)\n",
    "\n",
    "@njit\n",
    "def draw_Nt(max_iter=1e5):\n",
    "    J = 0\n",
    "    n = 0\n",
    "    while n < max_iter:\n",
    "        W = np.random.exponential(scale=1/λ)\n",
    "        J += W\n",
    "        if J > T:\n",
    "            return n\n",
    "        n += 1\n",
    "\n",
    "@njit\n",
    "def draw_Nt_sample(num_draws):\n",
    "    draws = np.empty(num_draws)\n",
    "    for i in range(num_draws):\n",
    "        draws[i] = draw_Nt()\n",
    "    return draws\n",
    "\n",
    "\n",
    "sample_size = 10_000\n",
    "sample = draw_Nt_sample(sample_size)\n",
    "max_val = sample.max()\n",
    "vals = np.arange(0, max_val+1)\n",
    "\n",
    "fig, ax = plt.subplots()\n",
    "\n",
    "ax.plot(vals, [poisson(v) for v in vals], \n",
    "    marker='o', label='poisson')\n",
    "ax.plot(vals, [np.mean(sample==v) for v in vals], \n",
    "    marker='o', label='empirical')\n",
    "\n",
    "ax.legend(fontsize=12)\n",
    "plt.show()\n",
    "\n"
   ]
  }
 ],
 "metadata": {
  "jupytext": {
   "formats": "ipynb,md:myst",
   "text_representation": {
    "extension": ".md",
    "format_name": "myst",
    "format_version": "0.9",
    "jupytext_version": "1.5.0"
   }
  },
  "kernelspec": {
   "display_name": "Python 3",
   "language": "python",
   "name": "python3"
  },
  "language_info": {
   "codemirror_mode": {
    "name": "ipython",
    "version": 3
   },
   "file_extension": ".py",
   "mimetype": "text/x-python",
   "name": "python",
   "nbconvert_exporter": "python",
   "pygments_lexer": "ipython3",
   "version": "3.7.6"
  },
  "source_map": [
   15,
   17,
   28,
   35,
   90,
   110,
   187
  ]
 },
 "nbformat": 4,
 "nbformat_minor": 4
}