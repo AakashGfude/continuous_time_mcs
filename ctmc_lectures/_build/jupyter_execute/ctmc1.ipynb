{
 "cells": [
  {
   "cell_type": "markdown",
   "metadata": {},
   "source": [
    "# Continuous Time Markov Chains I: Introduction\n",
    "\n",
    "## Overview\n",
    "\n",
    "To be added.  Focus is on time-homogeneous chains.  Finite state space.\n",
    "\n",
    "[Consider generalizing to the countable case.  Can you include the Poisson\n",
    "process?  Where does the theory get complicated?  Can you get around it by\n",
    "assuming bounded positive rates?]\n",
    "\n",
    "[If the above works, start with the Poisson process as an example.  Try\n",
    "replacing exponentials with some other distribution and argue that the Markov\n",
    "property fails.  Use a simple two state example.  We want to know not just\n",
    "whether $X_t$ is in state $x$, but also how long.  This violates the Markov\n",
    "assumption.]\n",
    "\n",
    "The state space is $S = \\{x_1, \\ldots, x_n\\}$, where each $x_i$ is a real number.\n",
    "\n",
    "Informally, a continuous time $S$-valued Markov chain $(X_t)_{t \\geq 0}$ is an $S$-valued stochastic process indexed by $t \\in \\mathbb R_+$ that has the Markov property.\n",
    "\n",
    "Having the Markov property means that $(X_t)_{t < r}$ and $(X_t)_{t \\geq r}$ are independent given $X_r$.\n",
    "\n",
    "As we will see, the Markov property imposes a great deal of valuable structure.\n",
    "\n",
    "We will use the following imports"
   ]
  },
  {
   "cell_type": "code",
   "execution_count": 1,
   "metadata": {
    "execution": {
     "iopub.execute_input": "2020-07-15T19:15:33.559500Z",
     "iopub.status.busy": "2020-07-15T19:15:33.558072Z",
     "iopub.status.idle": "2020-07-15T19:15:34.374529Z",
     "shell.execute_reply": "2020-07-15T19:15:34.373777Z"
    }
   },
   "outputs": [],
   "source": [
    "import numpy as np\n",
    "import scipy as sp\n",
    "import matplotlib.pyplot as plt\n",
    "import quantecon as qe\n",
    "from numba import njit\n"
   ]
  },
  {
   "cell_type": "markdown",
   "metadata": {},
   "source": [
    "## A Model of Inventory Dynamics\n",
    "\n",
    "Let's now meet our first continuous time Markov chain on a finite state space.\n",
    "\n",
    "Let $X_t$ be the inventory of a firm at time $t$,\n",
    "taking values in the integers $0, 1, \\ldots, b$.\n",
    "\n",
    "If $X_t > 0$, then a customer arrives after $W$\n",
    "units of time, where $W \\sim E(\\lambda)$ for some fixed $\\lambda > 0$.\n",
    "\n",
    "Each customer purchases $\\min\\{U, X_t\\}$ units, where $U$ is an IID draw from\n",
    "the geometric distribution\n",
    "\n",
    "$$\n",
    "    \\mathbb P\\{U = u\\} = (1-\\alpha)^{k-1} \\alpha\n",
    "    \\qquad (k = 1, 2, \\ldots, \\; \\alpha \\in (0, 1))\n",
    "$$\n",
    "\n",
    "If $X_t = 0$, then no customers arrive and the firm places an order for $b$ units.\n",
    "\n",
    "The order arrives after a delay of $D$ units of time, where $D \\sim E(\\lambda)$.\n",
    "\n",
    "(We use the same $\\lambda$ here just for convenience, to simplify the exposition.)\n",
    "\n",
    "### Representation\n",
    "\n",
    "The inventory process jumps to a new value either when a new customer arrives\n",
    "$(X_t > 0)$ or when new stock arrives $(X_t = 0)$.\n",
    "\n",
    "Between these arrival times it is constant.\n",
    "\n",
    "Hence, to track $X_t$, it is enough to track the jump times and the new values\n",
    "taken at the jumps.\n",
    "\n",
    "In what follows, we denote the jump times by $\\{J_k\\}$ and the values at jumps\n",
    "by $Y_k$.\n",
    "\n",
    "Then \n",
    "\n",
    "$$\n",
    "    X_t = \\sum_{k \\geq 0} Y_k \\mathbb 1\\{J_k \\leq t < J_{k+1}\\}\n",
    "    \\qquad (t \\geq 0)\n",
    "$$ (xfromy)\n",
    "\n",
    "\n",
    "\n",
    "### Simulation\n",
    "\n",
    "Let's simulate this process, starting at $X_0 = 0$.\n",
    "\n",
    "As above,\n",
    "\n",
    "* $\\{J_k\\}$ gives the time of the jumps in inventory.\n",
    "* $Y_k$ gives the size of the inventory after the $k$-th jump.\n",
    "* $(X_t)$ is defined from these objects via {eq}`xfromy`.\n",
    "\n",
    "Here's a function that simulates one path."
   ]
  },
  {
   "cell_type": "code",
   "execution_count": 2,
   "metadata": {
    "execution": {
     "iopub.execute_input": "2020-07-15T19:15:34.381442Z",
     "iopub.status.busy": "2020-07-15T19:15:34.380976Z",
     "iopub.status.idle": "2020-07-15T19:15:34.383874Z",
     "shell.execute_reply": "2020-07-15T19:15:34.383078Z"
    }
   },
   "outputs": [],
   "source": [
    "def sim_path(seed=123, sim_length=30, λ=0.5, α=0.7, b=10):\n",
    "\n",
    "    J = np.zeros(sim_length)\n",
    "    Y = np.zeros(sim_length)\n",
    "    k = 0\n",
    "    np.random.seed(seed)\n",
    "\n",
    "    for k in range(sim_length-1):\n",
    "        W = np.random.exponential(scale=1/λ)  # W ~ E(λ)\n",
    "        J[k+1] = J[k] + W\n",
    "        if Y[k] == 0:\n",
    "            Y[k+1] = b\n",
    "        else:\n",
    "            Y[k+1] = Y[k] - min(Y[k], np.random.geometric(α))\n",
    "    return J, Y"
   ]
  },
  {
   "cell_type": "markdown",
   "metadata": {},
   "source": [
    "Let's plot the process $\\{X_t\\}$ using the ``step`` method of ``ax``."
   ]
  },
  {
   "cell_type": "code",
   "execution_count": 3,
   "metadata": {
    "execution": {
     "iopub.execute_input": "2020-07-15T19:15:34.389248Z",
     "iopub.status.busy": "2020-07-15T19:15:34.388468Z",
     "iopub.status.idle": "2020-07-15T19:15:34.764908Z",
     "shell.execute_reply": "2020-07-15T19:15:34.764450Z"
    }
   },
   "outputs": [
    {
     "data": {
      "image/png": "[encoded data removed]",
      "text/plain": [
       "<Figure size 432x288 with 1 Axes>"
      ]
     },
     "metadata": {
      "filenames": {
       "image/png": "/home/john/gh_synced/quantecon/continuous_time_mcs/ctmc_lectures/_build/jupyter_execute/ctmc1_5_0.png"
      },
      "needs_background": "light"
     },
     "output_type": "display_data"
    }
   ],
   "source": [
    "J, Y = sim_path()\n",
    "\n",
    "fig, ax = plt.subplots()\n",
    "ax.step(J, Y, label=\"$X_t$\")\n",
    "\n",
    "ax.set(xlabel=\"time\", ylabel=\"inventory\")\n",
    "\n",
    "ax.legend()\n",
    "plt.show()"
   ]
  },
  {
   "cell_type": "markdown",
   "metadata": {},
   "source": [
    "As expected, inventory falls and then jumps back up to $b$.\n",
    "\n",
    "We might now ask questions such as \"What fraction of time does $X_t = 0$ hold\n",
    "over a long time series?\"\n",
    "\n",
    "Before we dig deeper, however, let us turn to some definitions.\n",
    "\n",
    "## Markov Processes\n",
    "\n",
    "[add roadmap]\n",
    "\n",
    "### Definitions\n",
    "\n",
    "A continuous time stochastic process $(X_t)$ on $S$ is a family of $S$-valued\n",
    "random variables $X_t$ defined on a common probability space.\n",
    "\n",
    "A **transition semigroup** is a family $(P_t)_{t \\geq 0}$ of Markov matrices\n",
    "satisfying $P_0 = I$, where $I$ is the $n \\times n$ identity matrix, and\n",
    "\n",
    "$$\n",
    "    P_{s + t} = P_s P_t\n",
    "    \\qquad (s, t \\geq 0)\n",
    "$$ (chapkol_ct)\n",
    "\n",
    "The interpretation of $P_t(x, y)$ is the probability of moving from state $x$\n",
    "to state $y$ in $t$ units of time.\n",
    "\n",
    "Equation {eq}`chapkol_ct` is a version of the **Chapman-Kolmogorov equation**.\n",
    "\n",
    "This becomes clearer if we write it more explicitly as\n",
    "\n",
    "$$\n",
    "    P_{s+t}(x, y) \n",
    "    = \\sum_{z \\in S} P_s(x, z) P_t(z, y)\n",
    "$$\n",
    "\n",
    "A stochastic process $(X_t)$ is called a (time homogeneous) **Markov process** on $S$\n",
    "with transition semigroup $(P_t)$ if\n",
    "\n",
    "$$\n",
    "    \\mathbb P\\{X_t = y \\,|\\, (X_r)_{r \\leq s} \\}\n",
    "    = P_{t - s} (X_s, y)\n",
    "$$\n",
    "\n",
    "with probability one for all $y \\in S$ and $s \\leq t$.\n",
    "\n",
    "\n",
    "### Back to Inventories"
   ]
  }
 ],
 "metadata": {
  "jupytext": {
   "formats": "ipynb,md:myst",
   "text_representation": {
    "extension": ".md",
    "format_name": "myst",
    "format_version": "0.9",
    "jupytext_version": "1.5.0"
   }
  },
  "kernelspec": {
   "display_name": "Python 3",
   "language": "python",
   "name": "python3"
  },
  "language_info": {
   "codemirror_mode": {
    "name": "ipython",
    "version": 3
   },
   "file_extension": ".py",
   "mimetype": "text/x-python",
   "name": "python",
   "nbconvert_exporter": "python",
   "pygments_lexer": "ipython3",
   "version": "3.7.6"
  },
  "source_map": [
   13,
   43,
   50,
   111,
   128,
   132,
   143
  ]
 },
 "nbformat": 4,
 "nbformat_minor": 4
}